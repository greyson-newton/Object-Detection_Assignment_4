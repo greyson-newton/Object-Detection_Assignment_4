{
 "cells": [
  {
   "cell_type": "markdown",
   "metadata": {},
   "source": [
    "# Keras tutorial - the Happy House\n",
    "\n",
    "Welcome to the first assignment of week 2. In this assignment, you will:\n",
    "1. Learn to use Keras, a high-level neural networks API (programming framework), written in Python and capable of running on top of several lower-level frameworks including TensorFlow and CNTK. \n",
    "2. See how you can in a couple of hours build a deep learning algorithm.\n",
    "\n",
    "Why are we using Keras? Keras was developed to enable deep learning engineers to build and experiment with different models very quickly. Just as TensorFlow is a higher-level framework than Python, Keras is an even higher-level framework and provides additional abstractions. Being able to go from idea to result with the least possible delay is key to finding good models. However, Keras is more restrictive than the lower-level frameworks, so there are some very complex models that you can implement in TensorFlow but not (without more difficulty) in Keras. That being said, Keras will work fine for many common models. \n",
    "\n",
    "In this exercise, you'll work on the \"Happy House\" problem, which we'll explain below. Let's load the required packages and solve the problem of the Happy House!"
   ]
  },
  {
   "cell_type": "code",
   "execution_count": 3,
   "metadata": {
    "tags": []
   },
   "outputs": [],
   "source": [
    "# !pip install pydot\n",
    "import numpy as np\n",
    "from keras import layers\n",
    "from keras.layers import Input, Dense, Activation, ZeroPadding2D, BatchNormalization, Flatten, Conv2D\n",
    "from keras.layers import AveragePooling2D, MaxPooling2D, Dropout, GlobalMaxPooling2D, GlobalAveragePooling2D\n",
    "from keras.models import Model\n",
    "from keras.preprocessing import image\n",
    "from keras.utils import layer_utils\n",
    "from keras.utils.data_utils import get_file\n",
    "from keras.applications.imagenet_utils import preprocess_input\n",
    "import pydot\n",
    "from IPython.display import SVG\n",
    "from keras.utils.vis_utils import model_to_dot\n",
    "from keras.utils.vis_utils import plot_model\n",
    "from kt_utils import *\n",
    "\n",
    "import keras.backend as K\n",
    "K.set_image_data_format('channels_last')\n",
    "import matplotlib.pyplot as plt\n",
    "from matplotlib.pyplot import imshow\n",
    "\n",
    "%matplotlib inline"
   ]
  },
  {
   "cell_type": "markdown",
   "metadata": {},
   "source": [
    "**Note**: As you can see, we've imported a lot of functions from Keras. You can use them easily just by calling them directly in the notebook. Ex: `X = Input(...)` or `X = ZeroPadding2D(...)`."
   ]
  },
  {
   "cell_type": "markdown",
   "metadata": {},
   "source": [
    "## 1 - The Happy House \n",
    "\n",
    "For your next vacation, you decided to spend a week with five of your friends from school. It is a very convenient house with many things to do nearby. But the most important benefit is that everybody has commited to be happy when they are in the house. So anyone wanting to enter the house must prove their current state of happiness.\n",
    "\n",
    "<img src=\"images/happy-house.jpg\" style=\"width:350px;height:270px;\">\n",
    "<caption><center> <u> <font color='purple'> **Figure 1** </u><font color='purple'>  : **the Happy House**</center></caption>\n",
    "\n",
    "\n",
    "As a deep learning expert, to make sure the \"Happy\" rule is strictly applied, you are going to build an algorithm which that uses pictures from the front door camera to check if the person is happy or not. The door should open only if the person is happy. \n",
    "\n",
    "You have gathered pictures of your friends and yourself, taken by the front-door camera. The dataset is labbeled. \n",
    "\n",
    "<img src=\"images/house-members.png\" style=\"width:550px;height:250px;\">\n",
    "\n",
    "Run the following code to normalize the dataset and learn about its shapes."
   ]
  },
  {
   "cell_type": "code",
   "execution_count": 4,
   "metadata": {
    "tags": []
   },
   "outputs": [
    {
     "name": "stdout",
     "output_type": "stream",
     "text": [
      "number of training examples = 600\n",
      "number of test examples = 150\n",
      "X_train shape: (600, 64, 64, 3)\n",
      "Y_train shape: (600, 1)\n",
      "X_test shape: (150, 64, 64, 3)\n",
      "Y_test shape: (150, 1)\n"
     ]
    }
   ],
   "source": [
    "X_train_orig, Y_train_orig, X_test_orig, Y_test_orig, classes = load_dataset()\n",
    "\n",
    "# Normalize image vectors\n",
    "X_train = X_train_orig/255.\n",
    "X_test = X_test_orig/255.\n",
    "\n",
    "# Reshape\n",
    "Y_train = Y_train_orig.T\n",
    "Y_test = Y_test_orig.T\n",
    "\n",
    "print (\"number of training examples = \" + str(X_train.shape[0]))\n",
    "print (\"number of test examples = \" + str(X_test.shape[0]))\n",
    "print (\"X_train shape: \" + str(X_train.shape))\n",
    "print (\"Y_train shape: \" + str(Y_train.shape))\n",
    "print (\"X_test shape: \" + str(X_test.shape))\n",
    "print (\"Y_test shape: \" + str(Y_test.shape))"
   ]
  },
  {
   "cell_type": "markdown",
   "metadata": {},
   "source": [
    "**Details of the \"Happy\" dataset**:\n",
    "- Images are of shape (64,64,3)\n",
    "- Training: 600 pictures\n",
    "- Test: 150 pictures\n",
    "\n",
    "It is now time to solve the \"Happy\" Challenge."
   ]
  },
  {
   "cell_type": "markdown",
   "metadata": {},
   "source": [
    "## 2 - Building a model in Keras\n",
    "\n",
    "Keras is very good for rapid prototyping. In just a short time you will be able to build a model that achieves outstanding results.\n",
    "\n",
    "Here is an example of a model in Keras:\n",
    "\n",
    "```python\n",
    "def model(input_shape):\n",
    "    # Define the input placeholder as a tensor with shape input_shape. Think of this as your input image!\n",
    "    X_input = Input(input_shape)\n",
    "\n",
    "    # Zero-Padding: pads the border of X_input with zeroes\n",
    "    X = ZeroPadding2D((3, 3))(X_input)\n",
    "\n",
    "    # CONV -> BN -> RELU Block applied to X\n",
    "    X = Conv2D(32, (7, 7), strides = (1, 1), name = 'conv0')(X)\n",
    "    X = BatchNormalization(axis = 3, name = 'bn0')(X)\n",
    "    X = Activation('relu')(X)\n",
    "\n",
    "    # MAXPOOL\n",
    "    X = MaxPooling2D((2, 2), name='max_pool')(X)\n",
    "\n",
    "    # FLATTEN X (means convert it to a vector) + FULLYCONNECTED\n",
    "    X = Flatten()(X)\n",
    "    X = Dense(1, activation='sigmoid', name='fc')(X)\n",
    "\n",
    "    # Create model. This creates your Keras model instance, you'll use this instance to train/test the model.\n",
    "    model = Model(inputs = X_input, outputs = X, name='HappyModel')\n",
    "    \n",
    "    return model\n",
    "```\n",
    "\n",
    "Note that Keras uses a different convention with variable names than we've previously used with numpy and TensorFlow. In particular, rather than creating and assigning a new variable on each step of forward propagation such as `X`, `Z1`, `A1`, `Z2`, `A2`, etc. for the computations for the different layers, in Keras code each line above just reassigns `X` to a new value using `X = ...`. In other words, during each step of forward propagation, we are just writing the latest value in the commputation into the same variable `X`. The only exception was `X_input`, which we kept separate and did not overwrite, since we needed it at the end to create the Keras model instance (`model = Model(inputs = X_input, ...)` above). \n",
    "\n",
    "**Exercise**: Implement a `HappyModel()`. This assignment is more open-ended than most. We suggest that you start by implementing a model using the architecture we suggest, and run through the rest of this assignment using that as your initial model. But after that, come back and take initiative to try out other model architectures. For example, you might take inspiration from the model above, but then vary the network architecture and hyperparameters however you wish. You can also use other functions such as `AveragePooling2D()`, `GlobalMaxPooling2D()`, `Dropout()`. \n",
    "\n",
    "**Note**: You have to be careful with your data's shapes. Use what you've learned in the videos to make sure your convolutional, pooling and fully-connected layers are adapted to the volumes you're applying it to."
   ]
  },
  {
   "cell_type": "code",
   "execution_count": 5,
   "metadata": {
    "tags": []
   },
   "outputs": [],
   "source": [
    "# GRADED FUNCTION: HappyModel\n",
    "\n",
    "def HappyModel(input_shape):\n",
    "    \"\"\"\n",
    "    Implementation of the HappyModel.\n",
    "    \n",
    "    Arguments:\n",
    "    input_shape -- shape of the images of the dataset\n",
    "\n",
    "    Returns:\n",
    "    model -- a Model() instance in Keras\n",
    "    \"\"\"\n",
    "    \n",
    "    ### START CODE HERE ###\n",
    "    # Feel free to use the suggested outline in the text above to get started, and run through the whole\n",
    "    # exercise (including the later portions of this notebook) once. The come back also try out other\n",
    "    # network architectures as well. \n",
    "    X_input = Input(input_shape)\n",
    "\n",
    "    # Zero-Padding: pads the border of X_input with zeroes\n",
    "    X = ZeroPadding2D((3, 3))(X_input)\n",
    "\n",
    "    # CONV -> BN -> RELU Block applied to X\n",
    "    X = Conv2D(32, (7, 7), strides = (1, 1), name = 'conv0')(X)\n",
    "    X = BatchNormalization(axis = 3, name = 'bn0')(X)\n",
    "    X = Activation('relu')(X)\n",
    "\n",
    "    # MAXPOOL\n",
    "    X = MaxPooling2D((2, 2), name='max_pool')(X)\n",
    "\n",
    "    # FLATTEN X (means convert it to a vector) + FULLYCONNECTED\n",
    "    X = Flatten()(X)\n",
    "    X = Dense(1, activation='sigmoid', name='fc')(X)\n",
    "\n",
    "    # Create model. This creates your Keras model instance, you'll use this instance to train/test the model.\n",
    "    model = Model(inputs = X_input, outputs = X, name='HappyModel')\n",
    "    \n",
    "    ### END CODE HERE ###\n",
    "    \n",
    "    return model"
   ]
  },
  {
   "cell_type": "markdown",
   "metadata": {},
   "source": [
    "You have now built a function to describe your model. To train and test this model, there are four steps in Keras:\n",
    "1. Create the model by calling the function above\n",
    "2. Compile the model by calling `model.compile(optimizer = \"...\", loss = \"...\", metrics = [\"accuracy\"])`\n",
    "3. Train the model on train data by calling `model.fit(x = ..., y = ..., epochs = ..., batch_size = ...)`\n",
    "4. Test the model on test data by calling `model.evaluate(x = ..., y = ...)`\n",
    "\n",
    "If you want to know more about `model.compile()`, `model.fit()`, `model.evaluate()` and their arguments, refer to the official [Keras documentation](https://keras.io/models/model/).\n",
    "\n",
    "**Exercise**: Implement step 1, i.e. create the model."
   ]
  },
  {
   "cell_type": "code",
   "execution_count": 6,
   "metadata": {
    "tags": []
   },
   "outputs": [],
   "source": [
    "### START CODE HERE ### (1 line)\n",
    "happyModel = HappyModel(X_train.shape[1:])\n",
    "### END CODE HERE ###"
   ]
  },
  {
   "cell_type": "markdown",
   "metadata": {},
   "source": [
    "**Exercise**: Implement step 2, i.e. compile the model to configure the learning process. Choose the 3 arguments of `compile()` wisely. Hint: the Happy Challenge is a binary classification problem."
   ]
  },
  {
   "cell_type": "code",
   "execution_count": 7,
   "metadata": {
    "tags": []
   },
   "outputs": [],
   "source": [
    "### START CODE HERE ### (1 line)\n",
    "happyModel.compile(optimizer = \"adam\", loss = \"binary_crossentropy\", metrics = [\"accuracy\"])\n",
    "### END CODE HERE ###"
   ]
  },
  {
   "cell_type": "markdown",
   "metadata": {},
   "source": [
    "**Exercise**: Implement step 3, i.e. train the model. Choose the number of epochs and the batch size."
   ]
  },
  {
   "cell_type": "code",
   "execution_count": 8,
   "metadata": {
    "tags": []
   },
   "outputs": [
    {
     "name": "stdout",
     "output_type": "stream",
     "text": [
      "Epoch 1/100\n",
      "38/38 [==============================] - 5s 102ms/step - loss: 1.3843 - accuracy: 0.6850 - val_loss: 0.5998 - val_accuracy: 0.6533\n",
      "Epoch 2/100\n",
      "38/38 [==============================] - 3s 70ms/step - loss: 0.2312 - accuracy: 0.9133 - val_loss: 0.7148 - val_accuracy: 0.6533\n",
      "Epoch 3/100\n",
      "38/38 [==============================] - 3s 79ms/step - loss: 0.1847 - accuracy: 0.9283 - val_loss: 0.4005 - val_accuracy: 0.8200\n",
      "Epoch 4/100\n",
      "38/38 [==============================] - 3s 80ms/step - loss: 0.1710 - accuracy: 0.9283 - val_loss: 0.3463 - val_accuracy: 0.8200\n",
      "Epoch 5/100\n",
      "38/38 [==============================] - 3s 89ms/step - loss: 0.3251 - accuracy: 0.8817 - val_loss: 0.3439 - val_accuracy: 0.8333\n",
      "Epoch 6/100\n",
      "38/38 [==============================] - 3s 90ms/step - loss: 0.1591 - accuracy: 0.9450 - val_loss: 0.4046 - val_accuracy: 0.7867\n",
      "Epoch 7/100\n",
      "38/38 [==============================] - 3s 91ms/step - loss: 0.0976 - accuracy: 0.9617 - val_loss: 0.2309 - val_accuracy: 0.8733\n",
      "Epoch 8/100\n",
      "38/38 [==============================] - 3s 84ms/step - loss: 0.0884 - accuracy: 0.9700 - val_loss: 0.1453 - val_accuracy: 0.9533\n",
      "Epoch 9/100\n",
      "38/38 [==============================] - 3s 81ms/step - loss: 0.0754 - accuracy: 0.9800 - val_loss: 0.1323 - val_accuracy: 0.9533\n",
      "Epoch 10/100\n",
      "38/38 [==============================] - 3s 83ms/step - loss: 0.0559 - accuracy: 0.9833 - val_loss: 0.1561 - val_accuracy: 0.9533\n",
      "Epoch 11/100\n",
      "38/38 [==============================] - 3s 82ms/step - loss: 0.0665 - accuracy: 0.9733 - val_loss: 0.1458 - val_accuracy: 0.9333\n",
      "Epoch 12/100\n",
      "38/38 [==============================] - 3s 85ms/step - loss: 0.0443 - accuracy: 0.9883 - val_loss: 0.6123 - val_accuracy: 0.7600\n",
      "Epoch 13/100\n",
      "38/38 [==============================] - 3s 85ms/step - loss: 0.0552 - accuracy: 0.9850 - val_loss: 0.2707 - val_accuracy: 0.8933\n",
      "Epoch 14/100\n",
      "38/38 [==============================] - 3s 87ms/step - loss: 0.0748 - accuracy: 0.9800 - val_loss: 0.5705 - val_accuracy: 0.8267\n",
      "Epoch 15/100\n",
      "38/38 [==============================] - 3s 91ms/step - loss: 0.1287 - accuracy: 0.9533 - val_loss: 0.5422 - val_accuracy: 0.8200\n",
      "Epoch 16/100\n",
      "38/38 [==============================] - 3s 85ms/step - loss: 0.0790 - accuracy: 0.9650 - val_loss: 0.4230 - val_accuracy: 0.8800\n",
      "Epoch 17/100\n",
      "38/38 [==============================] - 3s 79ms/step - loss: 0.0509 - accuracy: 0.9850 - val_loss: 0.3022 - val_accuracy: 0.8867\n",
      "Epoch 18/100\n",
      "38/38 [==============================] - 3s 86ms/step - loss: 0.0587 - accuracy: 0.9783 - val_loss: 0.6618 - val_accuracy: 0.7333\n",
      "Epoch 19/100\n",
      "38/38 [==============================] - 3s 85ms/step - loss: 0.0604 - accuracy: 0.9783 - val_loss: 0.0932 - val_accuracy: 0.9533\n",
      "Epoch 20/100\n",
      "38/38 [==============================] - 3s 83ms/step - loss: 0.0645 - accuracy: 0.9783 - val_loss: 0.1047 - val_accuracy: 0.9667\n",
      "Epoch 21/100\n",
      "38/38 [==============================] - 3s 85ms/step - loss: 0.0613 - accuracy: 0.9767 - val_loss: 0.4421 - val_accuracy: 0.8200\n",
      "Epoch 22/100\n",
      "38/38 [==============================] - 3s 85ms/step - loss: 0.0281 - accuracy: 0.9917 - val_loss: 0.3084 - val_accuracy: 0.8867\n",
      "Epoch 23/100\n",
      "38/38 [==============================] - 3s 88ms/step - loss: 0.0330 - accuracy: 0.9900 - val_loss: 0.1777 - val_accuracy: 0.9267\n",
      "Epoch 24/100\n",
      "38/38 [==============================] - 3s 85ms/step - loss: 0.0210 - accuracy: 0.9917 - val_loss: 0.1031 - val_accuracy: 0.9600\n",
      "Epoch 25/100\n",
      "38/38 [==============================] - 3s 75ms/step - loss: 0.0165 - accuracy: 0.9933 - val_loss: 0.0959 - val_accuracy: 0.9533\n",
      "Epoch 26/100\n",
      "38/38 [==============================] - 3s 82ms/step - loss: 0.0616 - accuracy: 0.9817 - val_loss: 0.1412 - val_accuracy: 0.9467\n",
      "Epoch 27/100\n",
      "38/38 [==============================] - 3s 83ms/step - loss: 0.0555 - accuracy: 0.9817 - val_loss: 0.2498 - val_accuracy: 0.9267\n",
      "Epoch 28/100\n",
      "38/38 [==============================] - 3s 87ms/step - loss: 0.0249 - accuracy: 0.9917 - val_loss: 0.1528 - val_accuracy: 0.9600\n",
      "Epoch 29/100\n",
      "38/38 [==============================] - 3s 91ms/step - loss: 0.0297 - accuracy: 0.9867 - val_loss: 0.2023 - val_accuracy: 0.9133\n",
      "Epoch 30/100\n",
      "38/38 [==============================] - 3s 90ms/step - loss: 0.0598 - accuracy: 0.9783 - val_loss: 0.4455 - val_accuracy: 0.8800\n",
      "Epoch 31/100\n",
      "38/38 [==============================] - 3s 91ms/step - loss: 0.0286 - accuracy: 0.9933 - val_loss: 1.5459 - val_accuracy: 0.7133\n",
      "Epoch 32/100\n",
      "38/38 [==============================] - 3s 89ms/step - loss: 0.0548 - accuracy: 0.9817 - val_loss: 0.2105 - val_accuracy: 0.9267\n",
      "Epoch 33/100\n",
      "38/38 [==============================] - 3s 90ms/step - loss: 0.0510 - accuracy: 0.9817 - val_loss: 0.2619 - val_accuracy: 0.9267\n",
      "Epoch 34/100\n",
      "38/38 [==============================] - 3s 91ms/step - loss: 0.0982 - accuracy: 0.9667 - val_loss: 0.3952 - val_accuracy: 0.8933\n",
      "Epoch 35/100\n",
      "38/38 [==============================] - 3s 91ms/step - loss: 0.1337 - accuracy: 0.9667 - val_loss: 6.6782 - val_accuracy: 0.5667\n",
      "Epoch 36/100\n",
      "38/38 [==============================] - 3s 90ms/step - loss: 0.1458 - accuracy: 0.9533 - val_loss: 1.3634 - val_accuracy: 0.7267\n",
      "Epoch 37/100\n",
      "38/38 [==============================] - 3s 87ms/step - loss: 0.1645 - accuracy: 0.9617 - val_loss: 1.7178 - val_accuracy: 0.7400\n",
      "Epoch 38/100\n",
      "38/38 [==============================] - 3s 88ms/step - loss: 0.0416 - accuracy: 0.9883 - val_loss: 0.2371 - val_accuracy: 0.9133\n",
      "Epoch 39/100\n",
      "38/38 [==============================] - 3s 87ms/step - loss: 0.0799 - accuracy: 0.9767 - val_loss: 0.1969 - val_accuracy: 0.9533\n",
      "Epoch 40/100\n",
      "38/38 [==============================] - 3s 91ms/step - loss: 0.0670 - accuracy: 0.9817 - val_loss: 0.1824 - val_accuracy: 0.9400\n",
      "Epoch 41/100\n",
      "38/38 [==============================] - 3s 90ms/step - loss: 0.0151 - accuracy: 0.9967 - val_loss: 0.1241 - val_accuracy: 0.9533\n",
      "Epoch 42/100\n",
      "38/38 [==============================] - 3s 89ms/step - loss: 0.0891 - accuracy: 0.9767 - val_loss: 0.8495 - val_accuracy: 0.7467\n",
      "Epoch 43/100\n",
      "38/38 [==============================] - 3s 89ms/step - loss: 0.0213 - accuracy: 0.9933 - val_loss: 0.2035 - val_accuracy: 0.9333\n",
      "Epoch 44/100\n",
      "38/38 [==============================] - 4s 103ms/step - loss: 0.0322 - accuracy: 0.9867 - val_loss: 0.1712 - val_accuracy: 0.9267\n",
      "Epoch 45/100\n",
      "38/38 [==============================] - 4s 97ms/step - loss: 0.0093 - accuracy: 0.9983 - val_loss: 0.2824 - val_accuracy: 0.9000\n",
      "Epoch 46/100\n",
      "38/38 [==============================] - 4s 93ms/step - loss: 0.0382 - accuracy: 0.9883 - val_loss: 0.1362 - val_accuracy: 0.9400\n",
      "Epoch 47/100\n",
      "38/38 [==============================] - 3s 88ms/step - loss: 0.0081 - accuracy: 0.9983 - val_loss: 0.1180 - val_accuracy: 0.9467\n",
      "Epoch 48/100\n",
      "38/38 [==============================] - 3s 85ms/step - loss: 0.0130 - accuracy: 0.9950 - val_loss: 0.1305 - val_accuracy: 0.9667\n",
      "Epoch 49/100\n",
      "38/38 [==============================] - 3s 85ms/step - loss: 0.0215 - accuracy: 0.9917 - val_loss: 0.0941 - val_accuracy: 0.9600\n",
      "Epoch 50/100\n",
      "38/38 [==============================] - 3s 83ms/step - loss: 0.0363 - accuracy: 0.9867 - val_loss: 0.1093 - val_accuracy: 0.9600\n",
      "Epoch 51/100\n",
      "38/38 [==============================] - 3s 87ms/step - loss: 0.0380 - accuracy: 0.9833 - val_loss: 0.0964 - val_accuracy: 0.9733\n",
      "Epoch 52/100\n",
      "38/38 [==============================] - 3s 86ms/step - loss: 0.0249 - accuracy: 0.9867 - val_loss: 0.1595 - val_accuracy: 0.9733\n",
      "Epoch 53/100\n",
      "38/38 [==============================] - 3s 88ms/step - loss: 0.0419 - accuracy: 0.9883 - val_loss: 0.2169 - val_accuracy: 0.9400\n",
      "Epoch 54/100\n",
      "38/38 [==============================] - 3s 79ms/step - loss: 0.0452 - accuracy: 0.9867 - val_loss: 0.0685 - val_accuracy: 0.9800\n",
      "Epoch 55/100\n",
      "38/38 [==============================] - 3s 81ms/step - loss: 0.0090 - accuracy: 0.9983 - val_loss: 0.2286 - val_accuracy: 0.9133\n",
      "Epoch 56/100\n",
      "38/38 [==============================] - 3s 80ms/step - loss: 0.0211 - accuracy: 0.9917 - val_loss: 0.0950 - val_accuracy: 0.9667\n",
      "Epoch 57/100\n",
      "38/38 [==============================] - 3s 90ms/step - loss: 0.0345 - accuracy: 0.9900 - val_loss: 0.1101 - val_accuracy: 0.9667\n",
      "Epoch 58/100\n",
      "38/38 [==============================] - 3s 91ms/step - loss: 0.0064 - accuracy: 0.9967 - val_loss: 0.1103 - val_accuracy: 0.9600\n",
      "Epoch 59/100\n",
      "38/38 [==============================] - 3s 84ms/step - loss: 0.0498 - accuracy: 0.9883 - val_loss: 0.1548 - val_accuracy: 0.9733\n",
      "Epoch 60/100\n",
      "38/38 [==============================] - 3s 85ms/step - loss: 0.0104 - accuracy: 0.9967 - val_loss: 0.1291 - val_accuracy: 0.9733\n",
      "Epoch 61/100\n",
      "38/38 [==============================] - 3s 84ms/step - loss: 0.0053 - accuracy: 0.9983 - val_loss: 0.1198 - val_accuracy: 0.9600\n",
      "Epoch 62/100\n",
      "38/38 [==============================] - 3s 85ms/step - loss: 0.0190 - accuracy: 0.9917 - val_loss: 0.1945 - val_accuracy: 0.9600\n",
      "Epoch 63/100\n",
      "38/38 [==============================] - 3s 91ms/step - loss: 0.0222 - accuracy: 0.9933 - val_loss: 0.2637 - val_accuracy: 0.9333\n",
      "Epoch 64/100\n",
      "38/38 [==============================] - 3s 89ms/step - loss: 0.0223 - accuracy: 0.9967 - val_loss: 0.0590 - val_accuracy: 0.9667\n",
      "Epoch 65/100\n",
      "38/38 [==============================] - 3s 83ms/step - loss: 0.0224 - accuracy: 0.9967 - val_loss: 0.0536 - val_accuracy: 0.9800\n",
      "Epoch 66/100\n",
      "38/38 [==============================] - 3s 87ms/step - loss: 0.0165 - accuracy: 0.9967 - val_loss: 0.2995 - val_accuracy: 0.9333\n",
      "Epoch 67/100\n",
      "38/38 [==============================] - 3s 79ms/step - loss: 0.0373 - accuracy: 0.9867 - val_loss: 0.1420 - val_accuracy: 0.9600\n",
      "Epoch 68/100\n",
      "38/38 [==============================] - 3s 82ms/step - loss: 0.0046 - accuracy: 1.0000 - val_loss: 0.5857 - val_accuracy: 0.8733\n",
      "Epoch 69/100\n",
      "38/38 [==============================] - 3s 84ms/step - loss: 0.0187 - accuracy: 0.9933 - val_loss: 0.4377 - val_accuracy: 0.8667\n",
      "Epoch 70/100\n",
      "38/38 [==============================] - 3s 89ms/step - loss: 0.0097 - accuracy: 0.9967 - val_loss: 0.1604 - val_accuracy: 0.9267\n",
      "Epoch 71/100\n",
      "38/38 [==============================] - 3s 88ms/step - loss: 0.0125 - accuracy: 0.9967 - val_loss: 0.1577 - val_accuracy: 0.9667\n",
      "Epoch 72/100\n",
      "38/38 [==============================] - 3s 90ms/step - loss: 0.0030 - accuracy: 1.0000 - val_loss: 0.0753 - val_accuracy: 0.9600\n",
      "Epoch 73/100\n",
      "38/38 [==============================] - 3s 88ms/step - loss: 0.0045 - accuracy: 0.9983 - val_loss: 0.0657 - val_accuracy: 0.9733\n",
      "Epoch 74/100\n",
      "38/38 [==============================] - 3s 83ms/step - loss: 0.0189 - accuracy: 0.9950 - val_loss: 0.0808 - val_accuracy: 0.9733\n",
      "Epoch 75/100\n",
      "38/38 [==============================] - 3s 88ms/step - loss: 0.0298 - accuracy: 0.9917 - val_loss: 0.0930 - val_accuracy: 0.9667\n",
      "Epoch 76/100\n",
      "38/38 [==============================] - 3s 89ms/step - loss: 0.0017 - accuracy: 1.0000 - val_loss: 0.1656 - val_accuracy: 0.9467\n",
      "Epoch 77/100\n",
      "38/38 [==============================] - 4s 92ms/step - loss: 9.3338e-04 - accuracy: 1.0000 - val_loss: 0.0765 - val_accuracy: 0.9733\n",
      "Epoch 78/100\n",
      "38/38 [==============================] - 3s 88ms/step - loss: 0.0036 - accuracy: 0.9983 - val_loss: 0.0796 - val_accuracy: 0.9600\n",
      "Epoch 79/100\n",
      "38/38 [==============================] - 3s 91ms/step - loss: 0.0676 - accuracy: 0.9917 - val_loss: 0.3760 - val_accuracy: 0.8867\n",
      "Epoch 80/100\n",
      "38/38 [==============================] - 3s 89ms/step - loss: 0.0026 - accuracy: 1.0000 - val_loss: 0.1639 - val_accuracy: 0.9600\n",
      "Epoch 81/100\n",
      "38/38 [==============================] - 3s 89ms/step - loss: 7.3744e-04 - accuracy: 1.0000 - val_loss: 0.1118 - val_accuracy: 0.9667\n",
      "Epoch 82/100\n",
      "38/38 [==============================] - 4s 93ms/step - loss: 3.8841e-04 - accuracy: 1.0000 - val_loss: 0.1363 - val_accuracy: 0.9600\n",
      "Epoch 83/100\n",
      "38/38 [==============================] - 4s 93ms/step - loss: 2.9893e-04 - accuracy: 1.0000 - val_loss: 0.1002 - val_accuracy: 0.9733\n",
      "Epoch 84/100\n",
      "38/38 [==============================] - 3s 90ms/step - loss: 4.1462e-04 - accuracy: 1.0000 - val_loss: 0.1083 - val_accuracy: 0.9667\n",
      "Epoch 85/100\n",
      "38/38 [==============================] - 3s 87ms/step - loss: 2.1503e-04 - accuracy: 1.0000 - val_loss: 0.1054 - val_accuracy: 0.9667\n",
      "Epoch 86/100\n",
      "38/38 [==============================] - 3s 91ms/step - loss: 3.1659e-04 - accuracy: 1.0000 - val_loss: 0.1023 - val_accuracy: 0.9667\n",
      "Epoch 87/100\n",
      "38/38 [==============================] - 3s 90ms/step - loss: 4.2558e-04 - accuracy: 1.0000 - val_loss: 0.1470 - val_accuracy: 0.9600\n",
      "Epoch 88/100\n",
      "38/38 [==============================] - 3s 90ms/step - loss: 0.0503 - accuracy: 0.9850 - val_loss: 0.6380 - val_accuracy: 0.8933\n",
      "Epoch 89/100\n",
      "38/38 [==============================] - 3s 91ms/step - loss: 0.1496 - accuracy: 0.9583 - val_loss: 4.4006 - val_accuracy: 0.7267\n",
      "Epoch 90/100\n",
      "38/38 [==============================] - 3s 86ms/step - loss: 0.0621 - accuracy: 0.9817 - val_loss: 2.5989 - val_accuracy: 0.8000\n",
      "Epoch 91/100\n",
      "38/38 [==============================] - 3s 92ms/step - loss: 0.0690 - accuracy: 0.9733 - val_loss: 0.5107 - val_accuracy: 0.8400\n",
      "Epoch 92/100\n",
      "38/38 [==============================] - 4s 93ms/step - loss: 0.2710 - accuracy: 0.9400 - val_loss: 0.1906 - val_accuracy: 0.9667\n",
      "Epoch 93/100\n",
      "38/38 [==============================] - 3s 90ms/step - loss: 0.0894 - accuracy: 0.9750 - val_loss: 0.9500 - val_accuracy: 0.8400\n",
      "Epoch 94/100\n",
      "38/38 [==============================] - 3s 85ms/step - loss: 0.0803 - accuracy: 0.9733 - val_loss: 0.1714 - val_accuracy: 0.9200\n",
      "Epoch 95/100\n",
      "38/38 [==============================] - 3s 91ms/step - loss: 0.0746 - accuracy: 0.9833 - val_loss: 0.1847 - val_accuracy: 0.9733\n",
      "Epoch 96/100\n",
      "38/38 [==============================] - 4s 93ms/step - loss: 0.0135 - accuracy: 0.9983 - val_loss: 0.2924 - val_accuracy: 0.9267\n",
      "Epoch 97/100\n",
      "38/38 [==============================] - 3s 92ms/step - loss: 0.0412 - accuracy: 0.9883 - val_loss: 0.2633 - val_accuracy: 0.9600\n",
      "Epoch 98/100\n",
      "38/38 [==============================] - 3s 92ms/step - loss: 0.0397 - accuracy: 0.9867 - val_loss: 0.6039 - val_accuracy: 0.8733\n",
      "Epoch 99/100\n",
      "38/38 [==============================] - 4s 93ms/step - loss: 0.0275 - accuracy: 0.9883 - val_loss: 0.1287 - val_accuracy: 0.9667\n",
      "Epoch 100/100\n",
      "38/38 [==============================] - 3s 89ms/step - loss: 0.0324 - accuracy: 0.9933 - val_loss: 0.0635 - val_accuracy: 0.9667\n"
     ]
    },
    {
     "data": {
      "text/plain": [
       "<keras.callbacks.History at 0x288da8698e0>"
      ]
     },
     "execution_count": 8,
     "metadata": {},
     "output_type": "execute_result"
    }
   ],
   "source": [
    "### START CODE HERE ### (1 line)\n",
    "happyModel.fit(X_train, Y_train, \n",
    "              batch_size =16,\n",
    "              epochs =100,\n",
    "              validation_data = (X_test, Y_test))\n",
    "### END CODE HERE ###"
   ]
  },
  {
   "cell_type": "markdown",
   "metadata": {},
   "source": [
    "Note that if you run `fit()` again, the `model` will continue to train with the parameters it has already learnt instead of reinitializing them.\n",
    "\n",
    "**Exercise**: Implement step 4, i.e. test/evaluate the model."
   ]
  },
  {
   "cell_type": "code",
   "execution_count": 14,
   "metadata": {
    "scrolled": true,
    "tags": []
   },
   "outputs": [
    {
     "name": "stdout",
     "output_type": "stream",
     "text": [
      "5/5 [==============================] - 1s 142ms/step - loss: 0.0166 - accuracy: 0.9933\n",
      "<keras.callbacks.History object at 0x00000288EBA7FA30>\n",
      "Test Accuracy =  <keras.callbacks.History object at 0x00000288EBA7FA30>\n"
     ]
    }
   ],
   "source": [
    "### START CODE HERE ### (1 line)\n",
    "preds = happyModel.fit(X_test, Y_test)\n",
    "### END CODE HERE ###\n",
    "print(preds)\n",
    "# print (\"Loss = \",preds[0])\n",
    "print (\"Test Accuracy = \",str(preds))"
   ]
  },
  {
   "cell_type": "markdown",
   "metadata": {},
   "source": [
    "If your `happyModel()` function worked, you should have observed much better than random-guessing (50%) accuracy on the train and test sets.\n",
    "\n",
    "To give you a point of comparison, our model gets around **95% test accuracy in 40 epochs** (and 99% train accuracy) with a mini batch size of 16 and \"adam\" optimizer. But our model gets decent accuracy after just 2-5 epochs, so if you're comparing different models you can also train a variety of models on just a few epochs and see how they compare. \n",
    "\n",
    "If you have not yet achieved a very good accuracy (let's say more than 80%), here're some things you can play around with to try to achieve it:\n",
    "\n",
    "- Try using blocks of CONV->BATCHNORM->RELU such as:\n",
    "```python\n",
    "X = Conv2D(32, (3, 3), strides = (1, 1), name = 'conv0')(X)\n",
    "X = BatchNormalization(axis = 3, name = 'bn0')(X)\n",
    "X = Activation('relu')(X)\n",
    "```\n",
    "until your height and width dimensions are quite low and your number of channels quite large (≈32 for example). You are encoding useful information in a volume with a lot of channels. You can then flatten the volume and use a fully-connected layer.\n",
    "- You can use MAXPOOL after such blocks. It will help you lower the dimension in height and width.\n",
    "- Change your optimizer. We find Adam works well. \n",
    "- If the model is struggling to run and you get memory issues, lower your batch_size (12 is usually a good compromise)\n",
    "- Run on more epochs, until you see the train accuracy plateauing. \n",
    "\n",
    "Even if you have achieved a good accuracy, please feel free to keep playing with your model to try to get even better results. \n",
    "\n",
    "**Note**: If you perform hyperparameter tuning on your model, the test set actually becomes a dev set, and your model might end up overfitting to the test (dev) set. But just for the purpose of this assignment, we won't worry about that here.\n"
   ]
  },
  {
   "cell_type": "markdown",
   "metadata": {},
   "source": [
    "## 3 - Conclusion\n",
    "\n",
    "Congratulations, you have solved the Happy House challenge! \n",
    "\n",
    "Now, you just need to link this model to the front-door camera of your house. We unfortunately won't go into the details of how to do that here. "
   ]
  },
  {
   "cell_type": "markdown",
   "metadata": {},
   "source": [
    "<font color='blue'>\n",
    "**What we would like you to remember from this assignment:**\n",
    "- Keras is a tool we recommend for rapid prototyping. It allows you to quickly try out different model architectures. Are there any applications of deep learning to your daily life that you'd like to implement using Keras? \n",
    "- Remember how to code a model in Keras and the four steps leading to the evaluation of your model on the test set. Create->Compile->Fit/Train->Evaluate/Test."
   ]
  },
  {
   "cell_type": "markdown",
   "metadata": {},
   "source": [
    "## 4 - Test with your own image (Optional)\n",
    "\n",
    "Congratulations on finishing this assignment. You can now take a picture of your face and see if you could enter the Happy House. To do that:\n",
    "    1. Click on \"File\" in the upper bar of this notebook, then click \"Open\" to go on your Coursera Hub.\n",
    "    2. Add your image to this Jupyter Notebook's directory, in the \"images\" folder\n",
    "    3. Write your image's name in the following code\n",
    "    4. Run the code and check if the algorithm is right (0 is unhappy, 1 is happy)!\n",
    "    \n",
    "The training/test sets were quite similar; for example, all the pictures were taken against the same background (since a front door camera is always mounted in the same position). This makes the problem easier, but a model trained on this data may or may not work on your own data. But feel free to give it a try! "
   ]
  },
  {
   "cell_type": "code",
   "execution_count": null,
   "metadata": {
    "collapsed": true,
    "jupyter": {
     "outputs_hidden": true
    }
   },
   "outputs": [],
   "source": [
    "### START CODE HERE ###\n",
    "img_path = 'images/my_image.jpg'\n",
    "### END CODE HERE ###\n",
    "img = image.load_img(img_path, target_size=(64, 64))\n",
    "imshow(img)\n",
    "\n",
    "x = image.img_to_array(img)\n",
    "x = np.expand_dims(x, axis=0)\n",
    "x = preprocess_input(x)\n",
    "\n",
    "print(happyModel.predict(x))"
   ]
  },
  {
   "cell_type": "markdown",
   "metadata": {},
   "source": [
    "## 5 - Other useful functions in Keras (Optional)\n",
    "\n",
    "Two other basic features of Keras that you'll find useful are:\n",
    "- `model.summary()`: prints the details of your layers in a table with the sizes of its inputs/outputs\n",
    "- `plot_model()`: plots your graph in a nice layout. You can even save it as \".png\" using SVG() if you'd like to share it on social media ;). It is saved in \"File\" then \"Open...\" in the upper bar of the notebook.\n",
    "\n",
    "Run the following code."
   ]
  },
  {
   "cell_type": "code",
   "execution_count": null,
   "metadata": {
    "collapsed": true,
    "jupyter": {
     "outputs_hidden": true
    }
   },
   "outputs": [],
   "source": [
    "happyModel.summary()"
   ]
  },
  {
   "cell_type": "code",
   "execution_count": null,
   "metadata": {
    "collapsed": true,
    "jupyter": {
     "outputs_hidden": true
    }
   },
   "outputs": [],
   "source": [
    "plot_model(happyModel, to_file='HappyModel.png')\n",
    "SVG(model_to_dot(happyModel).create(prog='dot', format='svg'))"
   ]
  }
 ],
 "metadata": {
  "kernelspec": {
   "display_name": "Python 3 (ipykernel)",
   "language": "python",
   "name": "python3"
  },
  "language_info": {
   "codemirror_mode": {
    "name": "ipython",
    "version": 3
   },
   "file_extension": ".py",
   "mimetype": "text/x-python",
   "name": "python",
   "nbconvert_exporter": "python",
   "pygments_lexer": "ipython3",
   "version": "3.9.7"
  }
 },
 "nbformat": 4,
 "nbformat_minor": 4
}
